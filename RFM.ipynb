{
 "cells": [
  {
   "cell_type": "code",
   "execution_count": 2,
   "metadata": {},
   "outputs": [
    {
     "name": "stdout",
     "output_type": "stream",
     "text": [
      "Data Overview:\n",
      "         ORDERDATE     ORDERID  AMOUNTINFO\n",
      "USERID                                    \n",
      "142074  2016-01-01  4196439032      9399.0\n",
      "56927   2016-01-01  4198324983      8799.0\n",
      "87058   2016-01-01  4191287379      6899.0\n",
      "136104  2016-01-01  4198508313      5999.0\n",
      "------------------------------\n",
      "Data DESC:\n",
      "         AMOUNTINFO\n",
      "count  86127.000000\n",
      "mean     744.705249\n",
      "std     1425.211176\n",
      "min        0.500000\n",
      "25%       13.000000\n",
      "50%       59.000000\n",
      "75%      629.000000\n",
      "max    30999.000000\n",
      "------------------------------------------------------------\n"
     ]
    }
   ],
   "source": [
    "import time\n",
    "import numpy as np\n",
    "import pandas as pd\n",
    "\n",
    "dtypes={'ORDERDATE':object,'ORDERID':object,'AMOUNTINFO':np.float}\n",
    "raw_data=pd.read_csv('sales.csv',dtype=dtypes,index_col='USERID')\n",
    "\n",
    "print('Data Overview:')\n",
    "print(raw_data.head(4))\n",
    "print('-'*30)\n",
    "print('Data DESC:')\n",
    "print(raw_data.describe())\n",
    "print('-'*60)"
   ]
  },
  {
   "cell_type": "code",
   "execution_count": 3,
   "metadata": {},
   "outputs": [
    {
     "name": "stdout",
     "output_type": "stream",
     "text": [
      "NA COls:\n",
      "ORDERDATE      True\n",
      "ORDERID       False\n",
      "AMOUNTINFO     True\n",
      "dtype: bool\n",
      "------------------------------\n",
      "NA Recors:\n",
      "Total number of NA lines is :10\n",
      "         ORDERDATE     ORDERID  AMOUNTINFO\n",
      "USERID                                    \n",
      "75849   2016-01-01  4197103430         NaN\n",
      "103714         NaN  4136159682       189.0\n",
      "155209  2016-01-01  4177940815         NaN\n",
      "139877         NaN  4111956196         6.3\n",
      "54599   2016-01-01  4119525205         NaN\n",
      "65456   2016-01-02  4195643356         NaN\n",
      "122134  2016-09-21  3826649773         NaN\n",
      "116995  2016-10-24  3981569421         NaN\n",
      "98888   2016-12-06  3814398698         NaN\n",
      "145951  2016-12-29  4139830098         NaN\n",
      "------------------------------------------------------------\n"
     ]
    }
   ],
   "source": [
    "na_cols=raw_data.isnull().any(axis=0)\n",
    "print('NA COls:')\n",
    "print(na_cols)\n",
    "print('-'*30)\n",
    "na_lines=raw_data.isnull().any(axis=1)\n",
    "print('NA Recors:')\n",
    "print('Total number of NA lines is :{0}'.format(na_lines.sum()))\n",
    "print(raw_data[na_lines])\n",
    "print('-'*60)"
   ]
  },
  {
   "cell_type": "code",
   "execution_count": 4,
   "metadata": {},
   "outputs": [
    {
     "name": "stdout",
     "output_type": "stream",
     "text": [
      "Raw Dtypes:\n",
      "ORDERDATE     datetime64[ns]\n",
      "ORDERID               object\n",
      "AMOUNTINFO           float64\n",
      "dtype: object\n",
      "------------------------------------------------------------\n"
     ]
    }
   ],
   "source": [
    "sales_data=raw_data.dropna()\n",
    "sales_data=sales_data[sales_data['AMOUNTINFO']>1]\n",
    "\n",
    "sales_data['ORDERDATE']=pd.to_datetime(sales_data['ORDERDATE'],format='%Y-%m-%d')\n",
    "print('Raw Dtypes:')\n",
    "print(sales_data.dtypes)\n",
    "print('-'*60)"
   ]
  },
  {
   "cell_type": "code",
   "execution_count": 8,
   "metadata": {},
   "outputs": [
    {
     "name": "stdout",
     "output_type": "stream",
     "text": [
      "RFM Score Overview:\n",
      "        r_score  f_score  m_score\n",
      "USERID                           \n",
      "51220         4        1        1\n",
      "51221         2        1        1\n",
      "51224         3        1        1\n",
      "51225         4        1        1\n",
      "------------------------------------------------------------\n"
     ]
    }
   ],
   "source": [
    "rectency_value=sales_data['ORDERDATE'].groupby(sales_data.index).max()\n",
    "frequency_value=sales_data['ORDERDATE'].groupby(sales_data.index).count()\n",
    "monetary_value=sales_data['AMOUNTINFO'].groupby(sales_data.index).sum()\n",
    "deadline_data=pd.datetime(2017, 1, 1)\n",
    "r_interval=(deadline_data-rectency_value).dt.days\n",
    "r_score=pd.cut(r_interval,5,labels=[5,4,3,2,1])\n",
    "f_score=pd.cut(frequency_value,5,labels=[1,2,3,4,5])\n",
    "m_score=pd.cut(monetary_value,5,labels=[1,2,3,4,5])\n",
    "\n",
    "rfm_list=[r_score,f_score,m_score]\n",
    "rfm_cols=['r_score','f_score','m_score']\n",
    "rfm_pd=pd.DataFrame(np.array(rfm_list).transpose(),dtype=np.int32,columns=rfm_cols,index=frequency_value.index)\n",
    "print('RFM Score Overview:')\n",
    "print(rfm_pd.head(4))\n",
    "print('-'*60)"
   ]
  },
  {
   "cell_type": "code",
   "execution_count": 10,
   "metadata": {},
   "outputs": [
    {
     "name": "stdout",
     "output_type": "stream",
     "text": [
      "Final RMF Scores Overview:\n",
      "        r_score  f_score  m_score  rfm_wscore\n",
      "USERID                                       \n",
      "51220         4        1        1         2.8\n",
      "51221         2        1        1         1.6\n",
      "51224         3        1        1         2.2\n",
      "51225         4        1        1         2.8\n",
      "------------------------------\n",
      "Final RFM Score DESC:\n",
      "            r_score       f_score       m_score    rfm_wscore\n",
      "count  59676.000000  59676.000000  59676.000000  59676.000000\n",
      "mean       3.299970      1.013439      1.000134      2.384027\n",
      "std        1.402166      0.116017      0.018307      0.845380\n",
      "min        1.000000      1.000000      1.000000      1.000000\n",
      "25%        2.000000      1.000000      1.000000      1.600000\n",
      "50%        3.000000      1.000000      1.000000      2.200000\n",
      "75%        5.000000      1.000000      1.000000      3.400000\n",
      "max        5.000000      5.000000      5.000000      5.000000\n"
     ]
    }
   ],
   "source": [
    "rfm_pd['rfm_wscore']=rfm_pd['r_score']*0.6+rfm_pd['f_score']*0.3+rfm_pd['m_score']*0.1\n",
    "print('Final RMF Scores Overview:')\n",
    "print(rfm_pd.head(4))\n",
    "print('-'*30)\n",
    "print('Final RFM Score DESC:')\n",
    "print(rfm_pd.describe())"
   ]
  },
  {
   "cell_type": "code",
   "execution_count": 11,
   "metadata": {},
   "outputs": [],
   "source": [
    "rfm_pd.to_csv('sales_rfm_score.csv')"
   ]
  },
  {
   "cell_type": "code",
   "execution_count": null,
   "metadata": {},
   "outputs": [],
   "source": []
  }
 ],
 "metadata": {
  "kernelspec": {
   "display_name": "Python 3",
   "language": "python",
   "name": "python3"
  },
  "language_info": {
   "codemirror_mode": {
    "name": "ipython",
    "version": 3
   },
   "file_extension": ".py",
   "mimetype": "text/x-python",
   "name": "python",
   "nbconvert_exporter": "python",
   "pygments_lexer": "ipython3",
   "version": "3.7.1"
  }
 },
 "nbformat": 4,
 "nbformat_minor": 2
}
